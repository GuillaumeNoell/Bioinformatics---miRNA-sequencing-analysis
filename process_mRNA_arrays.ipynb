{
 "cells": [
  {
   "cell_type": "markdown",
   "metadata": {
    "heading_collapsed": true
   },
   "source": [
    "# load libraries and data directory"
   ]
  },
  {
   "cell_type": "code",
   "execution_count": 31,
   "metadata": {
    "ExecuteTime": {
     "end_time": "2016-07-11T17:30:55.250760",
     "start_time": "2016-07-11T15:30:55.163Z"
    },
    "collapsed": false,
    "hidden": true,
    "scrolled": true
   },
   "outputs": [],
   "source": [
    "suppressMessages(library(RankProd)) \n",
    "suppressMessages(library(limma))\n",
    "library(gplots)\n",
    "library(plotrix)\n",
    "library(RColorBrewer)\n",
    "library(methods)\n",
    "library(edgeR)\n",
    "library(ggbiplot)\n",
    "library(genefilter)\n",
    "\n",
    "suppressMessages(library(gtools)) \n",
    "suppressMessages(library(Hmisc))\n",
    "suppressMessages(library(minet))\n",
    "suppressMessages(library(reshape2))\n",
    "suppressMessages(library(plyr))\n",
    "suppressMessages(library(outliers))\n",
    "suppressMessages(library(magrittr))\n",
    "suppressMessages(library(dplyr))\n",
    "suppressMessages(library(tidyr))\n",
    "suppressMessages(library(purrr))\n",
    "suppressMessages(library(stringr))\n",
    "\n",
    "library(tibble)\n",
    "library(readr)\n",
    "\n",
    "options(stringsAsFactors = FALSE)"
   ]
  },
  {
   "cell_type": "code",
   "execution_count": 32,
   "metadata": {
    "ExecuteTime": {
     "end_time": "2016-07-11T17:30:56.834145",
     "start_time": "2016-07-11T15:30:56.787Z"
    },
    "collapsed": true,
    "hidden": true
   },
   "outputs": [],
   "source": [
    "mRNA_data_dir = '~/data/GSK_enfisema/arrays mRNA'\n",
    "pheno_csv = '~/data/GSK_enfisema/pheno_groups.csv'\n",
    "working_dir = '~/Documents/GSK_enfisema/'"
   ]
  },
  {
   "cell_type": "markdown",
   "metadata": {},
   "source": [
    "# read U219 array cell files and RMA normalize"
   ]
  },
  {
   "cell_type": "markdown",
   "metadata": {},
   "source": [
    "## create phenotypic data_frame"
   ]
  },
  {
   "cell_type": "code",
   "execution_count": 40,
   "metadata": {
    "ExecuteTime": {
     "end_time": "2016-07-11T17:38:19.682782",
     "start_time": "2016-07-11T15:38:19.605Z"
    },
    "collapsed": false,
    "scrolled": false
   },
   "outputs": [],
   "source": [
    "groups = read.csv(pheno_csv,header = TRUE)\n",
    "\n",
    "fi = list.files(mRNA_data_dir)[grepl('.CEL',list.files(mRNA_data_dir))]\n",
    "\n",
    "pheno = data_frame(sample = fi) %>% rowwise %>% \n",
    "  mutate(patient = strsplit(sample,split='_')[[1]][1],      \n",
    "         pat = gsub('RF-','',patient),\n",
    "         pat = gsub('RF','',pat),\n",
    "         pat = gsub('-1','',pat),\n",
    "         pat = gsub('-2','',pat),\n",
    "         pat = gsub('-3','',pat)) %>% ungroup %>% select(-patient)\n",
    "\n",
    "#pheno$pat[pheno$pat %in% groups$pat]\n",
    "#pheno$pat[!pheno$pat %in% groups$pat]\n",
    "#groups$pat[!groups$pat %in% pheno$pat]\n",
    "\n",
    "pheno %<>% inner_join(groups, by='pat') \n",
    "write_csv(pheno, str_c(working_dir,'pheno.csv'))"
   ]
  },
  {
   "cell_type": "code",
   "execution_count": null,
   "metadata": {
    "collapsed": true
   },
   "outputs": [],
   "source": []
  }
 ],
 "metadata": {
  "hide_input": false,
  "kernelspec": {
   "display_name": "R",
   "language": "R",
   "name": "ir"
  },
  "language_info": {
   "codemirror_mode": "r",
   "file_extension": ".r",
   "mimetype": "text/x-r-source",
   "name": "R",
   "pygments_lexer": "r",
   "version": "3.2.3"
  },
  "toc": {
   "toc_cell": false,
   "toc_number_sections": true,
   "toc_threshold": 6,
   "toc_window_display": false
  }
 },
 "nbformat": 4,
 "nbformat_minor": 0
}
