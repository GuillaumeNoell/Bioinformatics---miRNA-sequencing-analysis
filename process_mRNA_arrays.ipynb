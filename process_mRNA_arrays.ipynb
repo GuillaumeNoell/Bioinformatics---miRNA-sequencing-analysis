{
 "cells": [
  {
   "cell_type": "markdown",
   "metadata": {},
   "source": [
    "# load libraries and data directory"
   ]
  },
  {
   "cell_type": "code",
   "execution_count": 64,
   "metadata": {
    "ExecuteTime": {
     "end_time": "2016-07-11T17:51:53.314742",
     "start_time": "2016-07-11T15:51:53.235Z"
    },
    "collapsed": false,
    "scrolled": true
   },
   "outputs": [],
   "source": [
    "suppressMessages(library(oligo)) \n",
    "suppressMessages(library(RankProd)) \n",
    "suppressMessages(library(limma))\n",
    "library(gplots)\n",
    "library(plotrix)\n",
    "library(RColorBrewer)\n",
    "library(methods)\n",
    "library(edgeR)\n",
    "library(ggbiplot)\n",
    "library(genefilter)\n",
    "\n",
    "suppressMessages(library(gtools)) \n",
    "suppressMessages(library(Hmisc))\n",
    "suppressMessages(library(minet))\n",
    "suppressMessages(library(reshape2))\n",
    "suppressMessages(library(plyr))\n",
    "suppressMessages(library(outliers))\n",
    "suppressMessages(library(magrittr))\n",
    "suppressMessages(library(dplyr))\n",
    "suppressMessages(library(tidyr))\n",
    "suppressMessages(library(purrr))\n",
    "suppressMessages(library(stringr))\n",
    "\n",
    "library(tibble)\n",
    "library(readr)\n",
    "\n",
    "options(stringsAsFactors = FALSE)"
   ]
  },
  {
   "cell_type": "code",
   "execution_count": 72,
   "metadata": {
    "ExecuteTime": {
     "end_time": "2016-07-11T17:53:35.123840",
     "start_time": "2016-07-11T15:53:35.092Z"
    },
    "collapsed": true
   },
   "outputs": [],
   "source": [
    "mRNA_data_dir = '/home/guillaume/data/GSK_enfisema/arrays_mRNA/'\n",
    "pheno_csv = '/home/guillaume/data/GSK_enfisema/pheno_groups.csv'\n",
    "working_dir = '/home/guillaume/Documents/GSK_enfisema/'"
   ]
  },
  {
   "cell_type": "markdown",
   "metadata": {},
   "source": [
    "# read U219 array cell files and RMA normalize"
   ]
  },
  {
   "cell_type": "markdown",
   "metadata": {},
   "source": [
    "## create phenotypic data_frame"
   ]
  },
  {
   "cell_type": "code",
   "execution_count": 73,
   "metadata": {
    "ExecuteTime": {
     "end_time": "2016-07-11T17:53:36.289794",
     "start_time": "2016-07-11T15:53:36.200Z"
    },
    "collapsed": false,
    "scrolled": false
   },
   "outputs": [],
   "source": [
    "groups = read.csv(pheno_csv,header = TRUE)\n",
    "\n",
    "fi = list.files(mRNA_data_dir)[grepl('.CEL',list.files(mRNA_data_dir))]\n",
    "\n",
    "pheno = data_frame(sample = fi) %>% rowwise %>% \n",
    "  mutate(patient = strsplit(sample,split='_')[[1]][1],      \n",
    "         pat = gsub('RF-','',patient),\n",
    "         pat = gsub('RF','',pat),\n",
    "         pat = gsub('-1','',pat),\n",
    "         pat = gsub('-2','',pat),\n",
    "         pat = gsub('-3','',pat)) %>% ungroup %>% select(-patient)\n",
    "\n",
    "#pheno$pat[pheno$pat %in% groups$pat]\n",
    "#pheno$pat[!pheno$pat %in% groups$pat]\n",
    "#groups$pat[!groups$pat %in% pheno$pat]\n",
    "\n",
    "pheno %<>% left_join(groups, by='pat') \n",
    "write_csv(pheno, str_c(working_dir,'pheno.csv'))"
   ]
  },
  {
   "cell_type": "code",
   "execution_count": 74,
   "metadata": {
    "ExecuteTime": {
     "end_time": "2016-07-11T17:53:36.447878",
     "start_time": "2016-07-11T15:53:36.416Z"
    },
    "collapsed": false
   },
   "outputs": [
    {
     "data": {
      "text/html": [
       "<ol class=list-inline>\n",
       "\t<li>94</li>\n",
       "\t<li>18</li>\n",
       "</ol>\n"
      ],
      "text/latex": [
       "\\begin{enumerate*}\n",
       "\\item 94\n",
       "\\item 18\n",
       "\\end{enumerate*}\n"
      ],
      "text/markdown": [
       "1. 94\n",
       "2. 18\n",
       "\n",
       "\n"
      ],
      "text/plain": [
       "[1] 94 18"
      ]
     },
     "execution_count": 74,
     "metadata": {},
     "output_type": "execute_result"
    }
   ],
   "source": [
    "pheno %>% dim"
   ]
  },
  {
   "cell_type": "markdown",
   "metadata": {},
   "source": [
    "## read CEL files"
   ]
  },
  {
   "cell_type": "code",
   "execution_count": 76,
   "metadata": {
    "ExecuteTime": {
     "end_time": "2016-07-11T17:54:01.713677",
     "start_time": "2016-07-11T15:53:58.491Z"
    },
    "collapsed": false,
    "scrolled": true
   },
   "outputs": [
    {
     "name": "stdout",
     "output_type": "stream",
     "text": [
      "Reading in : /home/guillaume/data/GSK_enfisema/arrays_mRNA/101_G03.CEL\n",
      "Reading in : /home/guillaume/data/GSK_enfisema/arrays_mRNA/102_G04.CEL\n",
      "Reading in : /home/guillaume/data/GSK_enfisema/arrays_mRNA/103_G05.CEL\n",
      "Reading in : /home/guillaume/data/GSK_enfisema/arrays_mRNA/104_G06.CEL\n",
      "Reading in : /home/guillaume/data/GSK_enfisema/arrays_mRNA/106_T-32_(106)_G08.CEL\n",
      "Reading in : /home/guillaume/data/GSK_enfisema/arrays_mRNA/107_G09.CEL\n",
      "Reading in : /home/guillaume/data/GSK_enfisema/arrays_mRNA/108_T-42_(108)_G10.CEL\n",
      "Reading in : /home/guillaume/data/GSK_enfisema/arrays_mRNA/109_T-31_(109)_G11.CEL\n",
      "Reading in : /home/guillaume/data/GSK_enfisema/arrays_mRNA/10_A09.CEL\n",
      "Reading in : /home/guillaume/data/GSK_enfisema/arrays_mRNA/110_T-30_(110)_G12.CEL\n",
      "Reading in : /home/guillaume/data/GSK_enfisema/arrays_mRNA/111_H01.CEL\n",
      "Reading in : /home/guillaume/data/GSK_enfisema/arrays_mRNA/112_H02.CEL\n",
      "Reading in : /home/guillaume/data/GSK_enfisema/arrays_mRNA/113_H03.CEL\n",
      "Reading in : /home/guillaume/data/GSK_enfisema/arrays_mRNA/114_H04.CEL\n",
      "Reading in : /home/guillaume/data/GSK_enfisema/arrays_mRNA/115_H05.CEL\n",
      "Reading in : /home/guillaume/data/GSK_enfisema/arrays_mRNA/116_H06.CEL\n",
      "Reading in : /home/guillaume/data/GSK_enfisema/arrays_mRNA/117_H10.CEL\n",
      "Reading in : /home/guillaume/data/GSK_enfisema/arrays_mRNA/118_H07.CEL\n",
      "Reading in : /home/guillaume/data/GSK_enfisema/arrays_mRNA/119_H08.CEL\n",
      "Reading in : /home/guillaume/data/GSK_enfisema/arrays_mRNA/120_H11.CEL\n",
      "Reading in : /home/guillaume/data/GSK_enfisema/arrays_mRNA/122_H09.CEL\n",
      "Reading in : /home/guillaume/data/GSK_enfisema/arrays_mRNA/12_A10.CEL\n",
      "Reading in : /home/guillaume/data/GSK_enfisema/arrays_mRNA/13_A11.CEL\n",
      "Reading in : /home/guillaume/data/GSK_enfisema/arrays_mRNA/14_A12.CEL\n",
      "Reading in : /home/guillaume/data/GSK_enfisema/arrays_mRNA/15_B01.CEL\n",
      "Reading in : /home/guillaume/data/GSK_enfisema/arrays_mRNA/16_B02.CEL\n",
      "Reading in : /home/guillaume/data/GSK_enfisema/arrays_mRNA/17_B03.CEL\n",
      "Reading in : /home/guillaume/data/GSK_enfisema/arrays_mRNA/1_A01.CEL\n",
      "Reading in : /home/guillaume/data/GSK_enfisema/arrays_mRNA/20_B04.CEL\n",
      "Reading in : /home/guillaume/data/GSK_enfisema/arrays_mRNA/21_B05.CEL\n",
      "Reading in : /home/guillaume/data/GSK_enfisema/arrays_mRNA/22_B06.CEL\n",
      "Reading in : /home/guillaume/data/GSK_enfisema/arrays_mRNA/24_B07.CEL\n",
      "Reading in : /home/guillaume/data/GSK_enfisema/arrays_mRNA/25_B08.CEL\n",
      "Reading in : /home/guillaume/data/GSK_enfisema/arrays_mRNA/27_B09.CEL\n",
      "Reading in : /home/guillaume/data/GSK_enfisema/arrays_mRNA/28_B10.CEL\n",
      "Reading in : /home/guillaume/data/GSK_enfisema/arrays_mRNA/29_B11.CEL\n",
      "Reading in : /home/guillaume/data/GSK_enfisema/arrays_mRNA/2_A02.CEL\n",
      "Reading in : /home/guillaume/data/GSK_enfisema/arrays_mRNA/30_B12.CEL\n",
      "Reading in : /home/guillaume/data/GSK_enfisema/arrays_mRNA/31_C01.CEL\n",
      "Reading in : /home/guillaume/data/GSK_enfisema/arrays_mRNA/32_C02.CEL\n",
      "Reading in : /home/guillaume/data/GSK_enfisema/arrays_mRNA/33_C03.CEL\n",
      "Reading in : /home/guillaume/data/GSK_enfisema/arrays_mRNA/34_C04.CEL\n",
      "Reading in : /home/guillaume/data/GSK_enfisema/arrays_mRNA/35_C05.CEL\n",
      "Reading in : /home/guillaume/data/GSK_enfisema/arrays_mRNA/37_C06.CEL\n",
      "Reading in : /home/guillaume/data/GSK_enfisema/arrays_mRNA/38_C07.CEL\n",
      "Reading in : /home/guillaume/data/GSK_enfisema/arrays_mRNA/39_C08.CEL\n",
      "Reading in : /home/guillaume/data/GSK_enfisema/arrays_mRNA/3_A03.CEL\n",
      "Reading in : /home/guillaume/data/GSK_enfisema/arrays_mRNA/40_C09.CEL\n",
      "Reading in : /home/guillaume/data/GSK_enfisema/arrays_mRNA/41_C10.CEL\n",
      "Reading in : /home/guillaume/data/GSK_enfisema/arrays_mRNA/42_C11.CEL\n",
      "Reading in : /home/guillaume/data/GSK_enfisema/arrays_mRNA/43_C12.CEL\n",
      "Reading in : /home/guillaume/data/GSK_enfisema/arrays_mRNA/44_D01.CEL\n",
      "Reading in : /home/guillaume/data/GSK_enfisema/arrays_mRNA/45_D02.CEL\n",
      "Reading in : /home/guillaume/data/GSK_enfisema/arrays_mRNA/47_D03.CEL\n",
      "Reading in : /home/guillaume/data/GSK_enfisema/arrays_mRNA/48_D04.CEL\n",
      "Reading in : /home/guillaume/data/GSK_enfisema/arrays_mRNA/49_D05.CEL\n",
      "Reading in : /home/guillaume/data/GSK_enfisema/arrays_mRNA/4_A04.CEL\n",
      "Reading in : /home/guillaume/data/GSK_enfisema/arrays_mRNA/50_D06.CEL\n",
      "Reading in : /home/guillaume/data/GSK_enfisema/arrays_mRNA/51_D07.CEL\n",
      "Reading in : /home/guillaume/data/GSK_enfisema/arrays_mRNA/52_D08.CEL\n",
      "Reading in : /home/guillaume/data/GSK_enfisema/arrays_mRNA/53_D09.CEL\n",
      "Reading in : /home/guillaume/data/GSK_enfisema/arrays_mRNA/54_D10.CEL\n",
      "Reading in : /home/guillaume/data/GSK_enfisema/arrays_mRNA/55_D11.CEL\n",
      "Reading in : /home/guillaume/data/GSK_enfisema/arrays_mRNA/56_D12.CEL\n",
      "Reading in : /home/guillaume/data/GSK_enfisema/arrays_mRNA/57_E01.CEL\n",
      "Reading in : /home/guillaume/data/GSK_enfisema/arrays_mRNA/58_E02.CEL\n",
      "Reading in : /home/guillaume/data/GSK_enfisema/arrays_mRNA/59_E03.CEL\n",
      "Reading in : /home/guillaume/data/GSK_enfisema/arrays_mRNA/5_A05.CEL\n",
      "Reading in : /home/guillaume/data/GSK_enfisema/arrays_mRNA/60_E04.CEL\n",
      "Reading in : /home/guillaume/data/GSK_enfisema/arrays_mRNA/61_E05.CEL\n",
      "Reading in : /home/guillaume/data/GSK_enfisema/arrays_mRNA/62_E06.CEL\n",
      "Reading in : /home/guillaume/data/GSK_enfisema/arrays_mRNA/63_E07.CEL\n",
      "Reading in : /home/guillaume/data/GSK_enfisema/arrays_mRNA/64_E08.CEL\n",
      "Reading in : /home/guillaume/data/GSK_enfisema/arrays_mRNA/65_E09.CEL\n",
      "Reading in : /home/guillaume/data/GSK_enfisema/arrays_mRNA/66_E10.CEL\n",
      "Reading in : /home/guillaume/data/GSK_enfisema/arrays_mRNA/67_E11.CEL\n",
      "Reading in : /home/guillaume/data/GSK_enfisema/arrays_mRNA/68_E12.CEL\n",
      "Reading in : /home/guillaume/data/GSK_enfisema/arrays_mRNA/6_A06.CEL\n",
      "Reading in : /home/guillaume/data/GSK_enfisema/arrays_mRNA/71_F01.CEL\n",
      "Reading in : /home/guillaume/data/GSK_enfisema/arrays_mRNA/73_F02.CEL\n",
      "Reading in : /home/guillaume/data/GSK_enfisema/arrays_mRNA/74_F03.CEL\n",
      "Reading in : /home/guillaume/data/GSK_enfisema/arrays_mRNA/75_F04.CEL\n",
      "Reading in : /home/guillaume/data/GSK_enfisema/arrays_mRNA/78_F05.CEL\n",
      "Reading in : /home/guillaume/data/GSK_enfisema/arrays_mRNA/79_F06.CEL\n",
      "Reading in : /home/guillaume/data/GSK_enfisema/arrays_mRNA/80_F07.CEL\n",
      "Reading in : /home/guillaume/data/GSK_enfisema/arrays_mRNA/81_F08.CEL\n",
      "Reading in : /home/guillaume/data/GSK_enfisema/arrays_mRNA/82_F09.CEL\n",
      "Reading in : /home/guillaume/data/GSK_enfisema/arrays_mRNA/83_F10.CEL\n",
      "Reading in : /home/guillaume/data/GSK_enfisema/arrays_mRNA/84D_F11.CEL\n",
      "Reading in : /home/guillaume/data/GSK_enfisema/arrays_mRNA/85D_F12.CEL\n",
      "Reading in : /home/guillaume/data/GSK_enfisema/arrays_mRNA/86D_G01.CEL\n",
      "Reading in : /home/guillaume/data/GSK_enfisema/arrays_mRNA/87_G02.CEL\n",
      "Reading in : /home/guillaume/data/GSK_enfisema/arrays_mRNA/8_A07.CEL\n",
      "Reading in : /home/guillaume/data/GSK_enfisema/arrays_mRNA/9_A08.CEL\n"
     ]
    },
    {
     "name": "stderr",
     "output_type": "stream",
     "text": [
      "Warning message:\n",
      "In read.celfiles(str_c(mRNA_data_dir, ph$sample), phenoData = ph, : 'channel' automatically added to varMetadata in phenoData."
     ]
    }
   ],
   "source": [
    "ph <- new(\"AnnotatedDataFrame\", data=pheno)\n",
    "pheno = as.data.frame(pData(ph))\n",
    "affyExonFS = read.celfiles(str_c(mRNA_data_dir,ph$sample), \n",
    "                             phenoData=ph, sampleNames=ph$pat, verbose=F)"
   ]
  },
  {
   "cell_type": "code",
   "execution_count": null,
   "metadata": {
    "collapsed": true
   },
   "outputs": [],
   "source": []
  },
  {
   "cell_type": "code",
   "execution_count": null,
   "metadata": {
    "collapsed": true
   },
   "outputs": [],
   "source": []
  }
 ],
 "metadata": {
  "hide_input": false,
  "kernelspec": {
   "display_name": "R",
   "language": "R",
   "name": "ir"
  },
  "language_info": {
   "codemirror_mode": "r",
   "file_extension": ".r",
   "mimetype": "text/x-r-source",
   "name": "R",
   "pygments_lexer": "r",
   "version": "3.2.3"
  },
  "toc": {
   "toc_cell": false,
   "toc_number_sections": true,
   "toc_threshold": 6,
   "toc_window_display": false
  }
 },
 "nbformat": 4,
 "nbformat_minor": 0
}
