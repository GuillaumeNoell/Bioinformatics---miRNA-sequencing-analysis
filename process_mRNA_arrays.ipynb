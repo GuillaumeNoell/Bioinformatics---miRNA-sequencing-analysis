{
 "cells": [
  {
   "cell_type": "markdown",
   "metadata": {},
   "source": [
    "# load libraries and data directory"
   ]
  },
  {
   "cell_type": "code",
   "execution_count": 1,
   "metadata": {
    "ExecuteTime": {
     "end_time": "2016-07-12T13:24:42.212840",
     "start_time": "2016-07-12T11:24:30.257Z"
    },
    "collapsed": false,
    "scrolled": true
   },
   "outputs": [
    {
     "name": "stderr",
     "output_type": "stream",
     "text": [
      "\n",
      "Attaching package: ‘gplots’\n",
      "\n",
      "The following object is masked from ‘package:IRanges’:\n",
      "\n",
      "    space\n",
      "\n",
      "The following object is masked from ‘package:stats’:\n",
      "\n",
      "    lowess\n",
      "\n",
      "\n",
      "Attaching package: ‘plotrix’\n",
      "\n",
      "The following object is masked from ‘package:gplots’:\n",
      "\n",
      "    plotCI\n",
      "\n",
      "Warning message:\n",
      ": package ‘RColorBrewer’ was built under R version 3.3.0Loading required package: ggplot2\n",
      "Loading required package: plyr\n",
      "\n",
      "Attaching package: ‘plyr’\n",
      "\n",
      "The following object is masked from ‘package:oligo’:\n",
      "\n",
      "    summarize\n",
      "\n",
      "The following object is masked from ‘package:XVector’:\n",
      "\n",
      "    compact\n",
      "\n",
      "The following object is masked from ‘package:IRanges’:\n",
      "\n",
      "    desc\n",
      "\n",
      "The following object is masked from ‘package:S4Vectors’:\n",
      "\n",
      "    rename\n",
      "\n",
      "Loading required package: scales\n",
      "\n",
      "Attaching package: ‘scales’\n",
      "\n",
      "The following object is masked from ‘package:plotrix’:\n",
      "\n",
      "    rescale\n",
      "\n",
      "Loading required package: grid\n",
      "\n",
      "Attaching package: ‘genefilter’\n",
      "\n",
      "The following object is masked from ‘package:base’:\n",
      "\n",
      "    anyNA\n",
      "\n",
      "Warning message:\n",
      ": package ‘lattice’ was built under R version 3.3.0Warning message:\n",
      ": package ‘reshape2’ was built under R version 3.3.0Warning message:\n",
      ": package ‘magrittr’ was built under R version 3.3.0Warning message:\n",
      ": package ‘stringr’ was built under R version 3.3.0\n",
      "Attaching package: ‘tibble’\n",
      "\n",
      "The following object is masked from ‘package:dplyr’:\n",
      "\n",
      "    tbl_df\n",
      "\n",
      "\n",
      "Attaching package: ‘readr’\n",
      "\n",
      "The following objects are masked from ‘package:scales’:\n",
      "\n",
      "    col_factor, col_numeric\n",
      "\n"
     ]
    }
   ],
   "source": [
    "suppressMessages(library(oligo)) \n",
    "suppressMessages(library(RankProd)) \n",
    "suppressMessages(library(limma))\n",
    "##suppressMessages(library(biomaRt))\n",
    "\n",
    "library(gplots)\n",
    "library(plotrix)\n",
    "library(RColorBrewer)\n",
    "library(methods)\n",
    "library(edgeR)\n",
    "library(ggbiplot)\n",
    "library(genefilter)\n",
    "\n",
    "suppressMessages(library(gtools)) \n",
    "suppressMessages(library(Hmisc))\n",
    "suppressMessages(library(minet))\n",
    "suppressMessages(library(reshape2))\n",
    "suppressMessages(library(plyr))\n",
    "suppressMessages(library(outliers))\n",
    "suppressMessages(library(magrittr))\n",
    "suppressMessages(library(dplyr))\n",
    "suppressMessages(library(tidyr))\n",
    "suppressMessages(library(purrr))\n",
    "suppressMessages(library(stringr))\n",
    "\n",
    "library(tibble)\n",
    "library(readr)\n",
    "\n",
    "options(stringsAsFactors = FALSE)"
   ]
  },
  {
   "cell_type": "code",
   "execution_count": 2,
   "metadata": {
    "ExecuteTime": {
     "end_time": "2016-07-12T13:24:42.238308",
     "start_time": "2016-07-12T11:24:30.259Z"
    },
    "collapsed": true
   },
   "outputs": [],
   "source": [
    "mRNA_data_dir = '/home/guillaume/data/GSK_enfisema/arrays_mRNA/'\n",
    "mRNA_u219_annotation_dir = '/home/guillaume/data/GSK_enfisema/'\n",
    "pheno_csv = '/home/guillaume/data/GSK_enfisema/pheno_groups.csv'\n",
    "working_dir = '/home/guillaume/Documents/GSK_enfisema/'"
   ]
  },
  {
   "cell_type": "markdown",
   "metadata": {},
   "source": [
    "# read U219 array cell files and RMA normalize"
   ]
  },
  {
   "cell_type": "markdown",
   "metadata": {},
   "source": [
    "## create phenotypic data_frame"
   ]
  },
  {
   "cell_type": "code",
   "execution_count": 3,
   "metadata": {
    "ExecuteTime": {
     "end_time": "2016-07-12T13:24:42.311825",
     "start_time": "2016-07-12T11:24:30.262Z"
    },
    "collapsed": false,
    "scrolled": false
   },
   "outputs": [],
   "source": [
    "groups = read.csv(pheno_csv,header = TRUE)\n",
    "\n",
    "fi = list.files(mRNA_data_dir)[grepl('.CEL',list.files(mRNA_data_dir))]\n",
    "\n",
    "pheno = data_frame(sample = fi) %>% rowwise %>% \n",
    "  mutate(patient = strsplit(sample,split='_')[[1]][1],      \n",
    "         pat = gsub('RF-','',patient),\n",
    "         pat = gsub('RF','',pat),\n",
    "         pat = gsub('-1','',pat),\n",
    "         pat = gsub('-2','',pat),\n",
    "         pat = gsub('-3','',pat)) %>% ungroup %>% select(-patient)\n",
    "\n",
    "#pheno$pat[pheno$pat %in% groups$pat]\n",
    "#pheno$pat[!pheno$pat %in% groups$pat]\n",
    "#groups$pat[!groups$pat %in% pheno$pat]\n",
    "\n",
    "pheno %<>% left_join(groups, by='pat') \n",
    "write_csv(pheno, str_c(working_dir,'pheno.csv'))"
   ]
  },
  {
   "cell_type": "code",
   "execution_count": 4,
   "metadata": {
    "ExecuteTime": {
     "end_time": "2016-07-12T13:24:42.328705",
     "start_time": "2016-07-12T11:24:30.265Z"
    },
    "collapsed": false
   },
   "outputs": [
    {
     "data": {
      "text/html": [
       "<ol class=list-inline>\n",
       "\t<li>94</li>\n",
       "\t<li>18</li>\n",
       "</ol>\n"
      ],
      "text/latex": [
       "\\begin{enumerate*}\n",
       "\\item 94\n",
       "\\item 18\n",
       "\\end{enumerate*}\n"
      ],
      "text/markdown": [
       "1. 94\n",
       "2. 18\n",
       "\n",
       "\n"
      ],
      "text/plain": [
       "[1] 94 18"
      ]
     },
     "execution_count": 4,
     "metadata": {},
     "output_type": "execute_result"
    }
   ],
   "source": [
    "pheno %>% dim"
   ]
  },
  {
   "cell_type": "markdown",
   "metadata": {},
   "source": [
    "## read CEL files"
   ]
  },
  {
   "cell_type": "code",
   "execution_count": 5,
   "metadata": {
    "ExecuteTime": {
     "end_time": "2016-07-12T13:26:00.684459",
     "start_time": "2016-07-12T11:24:30.269Z"
    },
    "collapsed": false,
    "scrolled": true
   },
   "outputs": [
    {
     "name": "stdout",
     "output_type": "stream",
     "text": [
      "Reading in : /home/guillaume/data/GSK_enfisema/arrays_mRNA/101_G03.CEL\n",
      "Reading in : /home/guillaume/data/GSK_enfisema/arrays_mRNA/102_G04.CEL\n",
      "Reading in : /home/guillaume/data/GSK_enfisema/arrays_mRNA/103_G05.CEL\n",
      "Reading in : /home/guillaume/data/GSK_enfisema/arrays_mRNA/104_G06.CEL\n",
      "Reading in : /home/guillaume/data/GSK_enfisema/arrays_mRNA/106_T-32_(106)_G08.CEL\n",
      "Reading in : /home/guillaume/data/GSK_enfisema/arrays_mRNA/107_G09.CEL\n",
      "Reading in : /home/guillaume/data/GSK_enfisema/arrays_mRNA/108_T-42_(108)_G10.CEL\n",
      "Reading in : /home/guillaume/data/GSK_enfisema/arrays_mRNA/109_T-31_(109)_G11.CEL\n",
      "Reading in : /home/guillaume/data/GSK_enfisema/arrays_mRNA/10_A09.CEL\n",
      "Reading in : /home/guillaume/data/GSK_enfisema/arrays_mRNA/110_T-30_(110)_G12.CEL\n",
      "Reading in : /home/guillaume/data/GSK_enfisema/arrays_mRNA/111_H01.CEL\n",
      "Reading in : /home/guillaume/data/GSK_enfisema/arrays_mRNA/112_H02.CEL\n",
      "Reading in : /home/guillaume/data/GSK_enfisema/arrays_mRNA/113_H03.CEL\n",
      "Reading in : /home/guillaume/data/GSK_enfisema/arrays_mRNA/114_H04.CEL\n",
      "Reading in : /home/guillaume/data/GSK_enfisema/arrays_mRNA/115_H05.CEL\n",
      "Reading in : /home/guillaume/data/GSK_enfisema/arrays_mRNA/116_H06.CEL\n",
      "Reading in : /home/guillaume/data/GSK_enfisema/arrays_mRNA/117_H10.CEL\n",
      "Reading in : /home/guillaume/data/GSK_enfisema/arrays_mRNA/118_H07.CEL\n",
      "Reading in : /home/guillaume/data/GSK_enfisema/arrays_mRNA/119_H08.CEL\n",
      "Reading in : /home/guillaume/data/GSK_enfisema/arrays_mRNA/120_H11.CEL\n",
      "Reading in : /home/guillaume/data/GSK_enfisema/arrays_mRNA/122_H09.CEL\n",
      "Reading in : /home/guillaume/data/GSK_enfisema/arrays_mRNA/12_A10.CEL\n",
      "Reading in : /home/guillaume/data/GSK_enfisema/arrays_mRNA/13_A11.CEL\n",
      "Reading in : /home/guillaume/data/GSK_enfisema/arrays_mRNA/14_A12.CEL\n",
      "Reading in : /home/guillaume/data/GSK_enfisema/arrays_mRNA/15_B01.CEL\n",
      "Reading in : /home/guillaume/data/GSK_enfisema/arrays_mRNA/16_B02.CEL\n",
      "Reading in : /home/guillaume/data/GSK_enfisema/arrays_mRNA/17_B03.CEL\n",
      "Reading in : /home/guillaume/data/GSK_enfisema/arrays_mRNA/1_A01.CEL\n",
      "Reading in : /home/guillaume/data/GSK_enfisema/arrays_mRNA/20_B04.CEL\n",
      "Reading in : /home/guillaume/data/GSK_enfisema/arrays_mRNA/21_B05.CEL\n",
      "Reading in : /home/guillaume/data/GSK_enfisema/arrays_mRNA/22_B06.CEL\n",
      "Reading in : /home/guillaume/data/GSK_enfisema/arrays_mRNA/24_B07.CEL\n",
      "Reading in : /home/guillaume/data/GSK_enfisema/arrays_mRNA/25_B08.CEL\n",
      "Reading in : /home/guillaume/data/GSK_enfisema/arrays_mRNA/27_B09.CEL\n",
      "Reading in : /home/guillaume/data/GSK_enfisema/arrays_mRNA/28_B10.CEL\n",
      "Reading in : /home/guillaume/data/GSK_enfisema/arrays_mRNA/29_B11.CEL\n",
      "Reading in : /home/guillaume/data/GSK_enfisema/arrays_mRNA/2_A02.CEL\n",
      "Reading in : /home/guillaume/data/GSK_enfisema/arrays_mRNA/30_B12.CEL\n",
      "Reading in : /home/guillaume/data/GSK_enfisema/arrays_mRNA/31_C01.CEL\n",
      "Reading in : /home/guillaume/data/GSK_enfisema/arrays_mRNA/32_C02.CEL\n",
      "Reading in : /home/guillaume/data/GSK_enfisema/arrays_mRNA/33_C03.CEL\n",
      "Reading in : /home/guillaume/data/GSK_enfisema/arrays_mRNA/34_C04.CEL\n",
      "Reading in : /home/guillaume/data/GSK_enfisema/arrays_mRNA/35_C05.CEL\n",
      "Reading in : /home/guillaume/data/GSK_enfisema/arrays_mRNA/37_C06.CEL\n",
      "Reading in : /home/guillaume/data/GSK_enfisema/arrays_mRNA/38_C07.CEL\n",
      "Reading in : /home/guillaume/data/GSK_enfisema/arrays_mRNA/39_C08.CEL\n",
      "Reading in : /home/guillaume/data/GSK_enfisema/arrays_mRNA/3_A03.CEL\n",
      "Reading in : /home/guillaume/data/GSK_enfisema/arrays_mRNA/40_C09.CEL\n",
      "Reading in : /home/guillaume/data/GSK_enfisema/arrays_mRNA/41_C10.CEL\n",
      "Reading in : /home/guillaume/data/GSK_enfisema/arrays_mRNA/42_C11.CEL\n",
      "Reading in : /home/guillaume/data/GSK_enfisema/arrays_mRNA/43_C12.CEL\n",
      "Reading in : /home/guillaume/data/GSK_enfisema/arrays_mRNA/44_D01.CEL\n",
      "Reading in : /home/guillaume/data/GSK_enfisema/arrays_mRNA/45_D02.CEL\n",
      "Reading in : /home/guillaume/data/GSK_enfisema/arrays_mRNA/47_D03.CEL\n",
      "Reading in : /home/guillaume/data/GSK_enfisema/arrays_mRNA/48_D04.CEL\n",
      "Reading in : /home/guillaume/data/GSK_enfisema/arrays_mRNA/49_D05.CEL\n",
      "Reading in : /home/guillaume/data/GSK_enfisema/arrays_mRNA/4_A04.CEL\n",
      "Reading in : /home/guillaume/data/GSK_enfisema/arrays_mRNA/50_D06.CEL\n",
      "Reading in : /home/guillaume/data/GSK_enfisema/arrays_mRNA/51_D07.CEL\n",
      "Reading in : /home/guillaume/data/GSK_enfisema/arrays_mRNA/52_D08.CEL\n",
      "Reading in : /home/guillaume/data/GSK_enfisema/arrays_mRNA/53_D09.CEL\n",
      "Reading in : /home/guillaume/data/GSK_enfisema/arrays_mRNA/54_D10.CEL\n",
      "Reading in : /home/guillaume/data/GSK_enfisema/arrays_mRNA/55_D11.CEL\n",
      "Reading in : /home/guillaume/data/GSK_enfisema/arrays_mRNA/56_D12.CEL\n",
      "Reading in : /home/guillaume/data/GSK_enfisema/arrays_mRNA/57_E01.CEL\n",
      "Reading in : /home/guillaume/data/GSK_enfisema/arrays_mRNA/58_E02.CEL\n",
      "Reading in : /home/guillaume/data/GSK_enfisema/arrays_mRNA/59_E03.CEL\n",
      "Reading in : /home/guillaume/data/GSK_enfisema/arrays_mRNA/5_A05.CEL\n",
      "Reading in : /home/guillaume/data/GSK_enfisema/arrays_mRNA/60_E04.CEL\n",
      "Reading in : /home/guillaume/data/GSK_enfisema/arrays_mRNA/61_E05.CEL\n",
      "Reading in : /home/guillaume/data/GSK_enfisema/arrays_mRNA/62_E06.CEL\n",
      "Reading in : /home/guillaume/data/GSK_enfisema/arrays_mRNA/63_E07.CEL\n",
      "Reading in : /home/guillaume/data/GSK_enfisema/arrays_mRNA/64_E08.CEL\n",
      "Reading in : /home/guillaume/data/GSK_enfisema/arrays_mRNA/65_E09.CEL\n",
      "Reading in : /home/guillaume/data/GSK_enfisema/arrays_mRNA/66_E10.CEL\n",
      "Reading in : /home/guillaume/data/GSK_enfisema/arrays_mRNA/67_E11.CEL\n",
      "Reading in : /home/guillaume/data/GSK_enfisema/arrays_mRNA/68_E12.CEL\n",
      "Reading in : /home/guillaume/data/GSK_enfisema/arrays_mRNA/6_A06.CEL\n",
      "Reading in : /home/guillaume/data/GSK_enfisema/arrays_mRNA/71_F01.CEL\n",
      "Reading in : /home/guillaume/data/GSK_enfisema/arrays_mRNA/73_F02.CEL\n",
      "Reading in : /home/guillaume/data/GSK_enfisema/arrays_mRNA/74_F03.CEL\n",
      "Reading in : /home/guillaume/data/GSK_enfisema/arrays_mRNA/75_F04.CEL\n",
      "Reading in : /home/guillaume/data/GSK_enfisema/arrays_mRNA/78_F05.CEL\n",
      "Reading in : /home/guillaume/data/GSK_enfisema/arrays_mRNA/79_F06.CEL\n",
      "Reading in : /home/guillaume/data/GSK_enfisema/arrays_mRNA/80_F07.CEL\n",
      "Reading in : /home/guillaume/data/GSK_enfisema/arrays_mRNA/81_F08.CEL\n",
      "Reading in : /home/guillaume/data/GSK_enfisema/arrays_mRNA/82_F09.CEL\n",
      "Reading in : /home/guillaume/data/GSK_enfisema/arrays_mRNA/83_F10.CEL\n",
      "Reading in : /home/guillaume/data/GSK_enfisema/arrays_mRNA/84D_F11.CEL\n",
      "Reading in : /home/guillaume/data/GSK_enfisema/arrays_mRNA/85D_F12.CEL\n",
      "Reading in : /home/guillaume/data/GSK_enfisema/arrays_mRNA/86D_G01.CEL\n",
      "Reading in : /home/guillaume/data/GSK_enfisema/arrays_mRNA/87_G02.CEL\n",
      "Reading in : /home/guillaume/data/GSK_enfisema/arrays_mRNA/8_A07.CEL\n",
      "Reading in : /home/guillaume/data/GSK_enfisema/arrays_mRNA/9_A08.CEL\n"
     ]
    },
    {
     "name": "stderr",
     "output_type": "stream",
     "text": [
      "Warning message:\n",
      "In read.celfiles(str_c(mRNA_data_dir, ph$sample), phenoData = ph, : 'channel' automatically added to varMetadata in phenoData."
     ]
    },
    {
     "name": "stdout",
     "output_type": "stream",
     "text": [
      "Background correcting\n",
      "Normalizing\n",
      "Calculating Expression\n"
     ]
    }
   ],
   "source": [
    "#U219 Affymetrix array\n",
    "ph <- new(\"AnnotatedDataFrame\", data=pheno)\n",
    "affy = read.celfiles(str_c(mRNA_data_dir,ph$sample), \n",
    "                             phenoData=ph, sampleNames=ph$pat, verbose=F)\n",
    "affy_rma = rma(affy)"
   ]
  },
  {
   "cell_type": "code",
   "execution_count": 6,
   "metadata": {
    "ExecuteTime": {
     "end_time": "2016-07-12T13:26:00.719248",
     "start_time": "2016-07-12T11:24:30.271Z"
    },
    "collapsed": false
   },
   "outputs": [
    {
     "data": {
      "text/plain": [
       "ExpressionSet (storageMode: lockedEnvironment)\n",
       "assayData: 1 features, 94 samples \n",
       "  element names: exprs \n",
       "protocolData\n",
       "  rowNames: 1 2 ... 94 (94 total)\n",
       "  varLabels: exprs dates\n",
       "  varMetadata: labelDescription channel\n",
       "phenoData\n",
       "  rowNames: 1 2 ... 3 (94 total)\n",
       "  varLabels: sample pat ... batch (18 total)\n",
       "  varMetadata: labelDescription channel\n",
       "featureData: none\n",
       "experimentData: use 'experimentData(object)'\n",
       "Annotation: pd.hg.u219 "
      ]
     },
     "execution_count": 6,
     "metadata": {},
     "output_type": "execute_result"
    }
   ],
   "source": [
    "affy_rma %>% head"
   ]
  },
  {
   "cell_type": "code",
   "execution_count": 7,
   "metadata": {
    "ExecuteTime": {
     "end_time": "2016-07-12T13:26:01.253261",
     "start_time": "2016-07-12T11:24:30.273Z"
    },
    "collapsed": false
   },
   "outputs": [
    {
     "data": {
      "text/html": [
       "<table>\n",
       "<thead><tr><th></th><th scope=col>101_41</th><th scope=col>102_59</th><th scope=col>103_42</th><th scope=col>104_48</th><th scope=col>106_50</th></tr></thead>\n",
       "<tbody>\n",
       "\t<tr><th scope=row>11715100_at</th><td>4.161239</td><td>3.760154</td><td>4.413014</td><td>4.461558</td><td>4.109672</td></tr>\n",
       "\t<tr><th scope=row>11715101_s_at</th><td>5.063633</td><td>4.853304</td><td>4.980275</td><td>5.116125</td><td>5.075902</td></tr>\n",
       "\t<tr><th scope=row>11715102_x_at</th><td>3.660032</td><td>3.905466</td><td>3.782236</td><td>3.969975</td><td>3.682786</td></tr>\n",
       "\t<tr><th scope=row>11715103_x_at</th><td>4.036723</td><td>4.062408</td><td>3.963214</td><td>4.181952</td><td>4.226437</td></tr>\n",
       "\t<tr><th scope=row>11715104_s_at</th><td>4.150746</td><td>3.876433</td><td>3.959996</td><td>4.268308</td><td>4.005087</td></tr>\n",
       "</tbody>\n",
       "</table>\n"
      ],
      "text/latex": [
       "\\begin{tabular}{r|lllll}\n",
       "  & 101\\_41 & 102\\_59 & 103\\_42 & 104\\_48 & 106\\_50\\\\\n",
       "\\hline\n",
       "\t11715100\\_at & 4.161239 & 3.760154 & 4.413014 & 4.461558 & 4.109672\\\\\n",
       "\t11715101\\_s\\_at & 5.063633 & 4.853304 & 4.980275 & 5.116125 & 5.075902\\\\\n",
       "\t11715102\\_x\\_at & 3.660032 & 3.905466 & 3.782236 & 3.969975 & 3.682786\\\\\n",
       "\t11715103\\_x\\_at & 4.036723 & 4.062408 & 3.963214 & 4.181952 & 4.226437\\\\\n",
       "\t11715104\\_s\\_at & 4.150746 & 3.876433 & 3.959996 & 4.268308 & 4.005087\\\\\n",
       "\\end{tabular}\n"
      ],
      "text/plain": [
       "              101_41   102_59   103_42   104_48   106_50  \n",
       "11715100_at   4.161239 3.760154 4.413014 4.461558 4.109672\n",
       "11715101_s_at 5.063633 4.853304 4.980275 5.116125 5.075902\n",
       "11715102_x_at 3.660032 3.905466 3.782236 3.969975 3.682786\n",
       "11715103_x_at 4.036723 4.062408 3.963214 4.181952 4.226437\n",
       "11715104_s_at 4.150746 3.876433 3.959996 4.268308 4.005087"
      ]
     },
     "execution_count": 7,
     "metadata": {},
     "output_type": "execute_result"
    }
   ],
   "source": [
    "data_rma = as.data.frame(exprs(affy_rma)[,])\n",
    "pheno = pData(phenoData(affy_rma))\n",
    "pheno %<>% mutate(DLCO = ifelse(is.na(DLCO),00,DLCO), ID = str_c(pat,DLCO,sep='_'))\n",
    "colnames(data_rma) = pheno$ID\n",
    "data_rma[1:5,1:5]"
   ]
  },
  {
   "cell_type": "markdown",
   "metadata": {},
   "source": [
    "# mapping probe id to gene id with affymetrix annotation csv"
   ]
  },
  {
   "cell_type": "markdown",
   "metadata": {},
   "source": [
    "## load annotation file"
   ]
  },
  {
   "cell_type": "code",
   "execution_count": 30,
   "metadata": {
    "ExecuteTime": {
     "end_time": "2016-07-12T13:33:42.829263",
     "start_time": "2016-07-12T11:33:39.986Z"
    },
    "collapsed": false
   },
   "outputs": [
    {
     "name": "stderr",
     "output_type": "stream",
     "text": [
      "Joining, by = \"probe_set_id\"\n"
     ]
    },
    {
     "data": {
      "text/html": [
       "49386"
      ],
      "text/latex": [
       "49386"
      ],
      "text/markdown": [
       "49386"
      ],
      "text/plain": [
       "[1] 49386"
      ]
     },
     "execution_count": 30,
     "metadata": {},
     "output_type": "execute_result"
    },
    {
     "data": {
      "text/html": [
       "0"
      ],
      "text/latex": [
       "0"
      ],
      "text/markdown": [
       "0"
      ],
      "text/plain": [
       "[1] 0"
      ]
     },
     "execution_count": 30,
     "metadata": {},
     "output_type": "execute_result"
    },
    {
     "data": {
      "text/html": [
       "<table>\n",
       "<thead><tr><th></th><th scope=col>probe_set_id</th><th scope=col>gene_symbol</th><th scope=col>entrez</th></tr></thead>\n",
       "<tbody>\n",
       "\t<tr><th scope=row>1</th><td>11715100_at  </td><td>HIST1H3G     </td><td>8355         </td></tr>\n",
       "\t<tr><th scope=row>2</th><td>11715101_s_at</td><td>HIST1H3G     </td><td>8355         </td></tr>\n",
       "\t<tr><th scope=row>3</th><td>11715102_x_at</td><td>HIST1H3G     </td><td>8355         </td></tr>\n",
       "\t<tr><th scope=row>4</th><td>11715103_x_at</td><td>TNFAIP8L1    </td><td>126282       </td></tr>\n",
       "\t<tr><th scope=row>5</th><td>11715104_s_at</td><td>OTOP2        </td><td>92736        </td></tr>\n",
       "\t<tr><th scope=row>6</th><td>11715105_at  </td><td>C17orf78     </td><td>284099       </td></tr>\n",
       "</tbody>\n",
       "</table>\n"
      ],
      "text/latex": [
       "\\begin{tabular}{r|lll}\n",
       "  & probe\\_set\\_id & gene\\_symbol & entrez\\\\\n",
       "\\hline\n",
       "\t1 & 11715100\\_at   & HIST1H3G        & 8355           \\\\\n",
       "\t2 & 11715101\\_s\\_at & HIST1H3G          & 8355             \\\\\n",
       "\t3 & 11715102\\_x\\_at & HIST1H3G          & 8355             \\\\\n",
       "\t4 & 11715103\\_x\\_at & TNFAIP8L1         & 126282           \\\\\n",
       "\t5 & 11715104\\_s\\_at & OTOP2             & 92736            \\\\\n",
       "\t6 & 11715105\\_at   & C17orf78        & 284099         \\\\\n",
       "\\end{tabular}\n"
      ],
      "text/plain": [
       "  probe_set_id  gene_symbol entrez\n",
       "1 11715100_at   HIST1H3G    8355  \n",
       "2 11715101_s_at HIST1H3G    8355  \n",
       "3 11715102_x_at HIST1H3G    8355  \n",
       "4 11715103_x_at TNFAIP8L1   126282\n",
       "5 11715104_s_at OTOP2       92736 \n",
       "6 11715105_at   C17orf78    284099"
      ]
     },
     "execution_count": 30,
     "metadata": {},
     "output_type": "execute_result"
    }
   ],
   "source": [
    "probe_entrez = read_csv(\n",
    "str_c(mRNA_u219_annotation_dir,'HG-U219.na36.annot_affymetrixwebsite_march2016.csv'),\n",
    "                       skip=25)\n",
    "probe_entrez = probe_entrez[,c(1,15,19)] %>% as_data_frame\n",
    "colnames(probe_entrez) = c('probe_set_id','gene_symbol','entrez')\n",
    "probe_entrez = data_frame(probe_set_id = row.names(data_rma)) %>% left_join(probe_entrez)\n",
    "write_csv(probe_entrez, str_c(working_dir,'probe_entrez.csv'))\n",
    "\n",
    "sum(row.names(data_rma) == probe_entrez$probe_set_id)\n",
    "sum(!row.names(data_rma) == probe_entrez$probe_set_id)\n",
    "probe_entrez %>% head"
   ]
  },
  {
   "cell_type": "markdown",
   "metadata": {},
   "source": [
    "## filter probes: \n",
    "- remove probes without gene symbol or without entrez id\n",
    "- keep only one probe per gene symbol/entrez id"
   ]
  },
  {
   "cell_type": "code",
   "execution_count": 57,
   "metadata": {
    "ExecuteTime": {
     "end_time": "2016-07-12T14:47:45.140169",
     "start_time": "2016-07-12T12:47:23.275Z"
    },
    "collapsed": false
   },
   "outputs": [
    {
     "data": {
      "text/html": [
       "<ol class=list-inline>\n",
       "\t<li>48873</li>\n",
       "\t<li>3</li>\n",
       "</ol>\n"
      ],
      "text/latex": [
       "\\begin{enumerate*}\n",
       "\\item 48873\n",
       "\\item 3\n",
       "\\end{enumerate*}\n"
      ],
      "text/markdown": [
       "1. 48873\n",
       "2. 3\n",
       "\n",
       "\n"
      ],
      "text/plain": [
       "[1] 48873     3"
      ]
     },
     "execution_count": 57,
     "metadata": {},
     "output_type": "execute_result"
    },
    {
     "data": {
      "text/html": [
       "<ol class=list-inline>\n",
       "\t<li>19289</li>\n",
       "\t<li>3</li>\n",
       "</ol>\n"
      ],
      "text/latex": [
       "\\begin{enumerate*}\n",
       "\\item 19289\n",
       "\\item 3\n",
       "\\end{enumerate*}\n"
      ],
      "text/markdown": [
       "1. 19289\n",
       "2. 3\n",
       "\n",
       "\n"
      ],
      "text/plain": [
       "[1] 19289     3"
      ]
     },
     "execution_count": 57,
     "metadata": {},
     "output_type": "execute_result"
    }
   ],
   "source": [
    "probe_entrez %>% dim\n",
    "probe_entrez_f = probe_entrez %<>% rowwise %>% mutate(entrez = as.character(entrez),\n",
    "                entrez = str_replace_all(entrez,' ',''),\n",
    "                gene_symbol = str_replace_all(gene_symbol,' ',''),\n",
    "                entrez = word(entrez,1,sep = '///'),data_rma_f\n",
    "                gene_symbol = word(gene_symbol,1,sep = '///')) %>%\n",
    "ungroup %>%\n",
    "filter(entrez != '---', gene_symbol != '---', !is.na(entrez),\n",
    "       !is.na(gene_symbol),\n",
    "      entrez != '', gene_symbol != '')  %>% distinct(entrez, .keep_all = TRUE) %>% \n",
    "distinct(gene_symbol, .keep_all = TRUE)\n",
    "\n",
    "write_csv(probe_entrez_f, str_c(working_dir,'probe_entrez_filtered.csv'))\n",
    "probe_entrez_f %>% dim"
   ]
  },
  {
   "cell_type": "code",
   "execution_count": 67,
   "metadata": {
    "ExecuteTime": {
     "end_time": "2016-07-12T14:53:01.444249",
     "start_time": "2016-07-12T12:53:01.301Z"
    },
    "collapsed": false
   },
   "outputs": [
    {
     "name": "stderr",
     "output_type": "stream",
     "text": [
      "Joining, by = \"probe_set_id\"\n"
     ]
    },
    {
     "data": {
      "text/html": [
       "19289"
      ],
      "text/latex": [
       "19289"
      ],
      "text/markdown": [
       "19289"
      ],
      "text/plain": [
       "[1] 19289"
      ]
     },
     "execution_count": 67,
     "metadata": {},
     "output_type": "execute_result"
    },
    {
     "data": {
      "text/html": [
       "0"
      ],
      "text/latex": [
       "0"
      ],
      "text/markdown": [
       "0"
      ],
      "text/plain": [
       "[1] 0"
      ]
     },
     "execution_count": 67,
     "metadata": {},
     "output_type": "execute_result"
    },
    {
     "data": {
      "text/html": [
       "<table>\n",
       "<thead><tr><th></th><th scope=col>101_41</th><th scope=col>102_59</th><th scope=col>103_42</th><th scope=col>104_48</th><th scope=col>106_50</th></tr></thead>\n",
       "<tbody>\n",
       "\t<tr><th scope=row>HIST1H3G</th><td>4.161239</td><td>3.760154</td><td>4.413014</td><td>4.461558</td><td>4.109672</td></tr>\n",
       "\t<tr><th scope=row>TNFAIP8L1</th><td>4.036723</td><td>4.062408</td><td>3.963214</td><td>4.181952</td><td>4.226437</td></tr>\n",
       "\t<tr><th scope=row>OTOP2</th><td>4.150746</td><td>3.876433</td><td>3.959996</td><td>4.268308</td><td>4.005087</td></tr>\n",
       "\t<tr><th scope=row>C17orf78</th><td>3.923032</td><td>3.918216</td><td>4.194412</td><td>4.028379</td><td>4.023533</td></tr>\n",
       "\t<tr><th scope=row>CTAGE15</th><td>4.268796</td><td>4.570817</td><td>4.292928</td><td>4.827885</td><td>4.984516</td></tr>\n",
       "</tbody>\n",
       "</table>\n"
      ],
      "text/latex": [
       "\\begin{tabular}{r|lllll}\n",
       "  & 101\\_41 & 102\\_59 & 103\\_42 & 104\\_48 & 106\\_50\\\\\n",
       "\\hline\n",
       "\tHIST1H3G & 4.161239 & 3.760154 & 4.413014 & 4.461558 & 4.109672\\\\\n",
       "\tTNFAIP8L1 & 4.036723 & 4.062408 & 3.963214 & 4.181952 & 4.226437\\\\\n",
       "\tOTOP2 & 4.150746 & 3.876433 & 3.959996 & 4.268308 & 4.005087\\\\\n",
       "\tC17orf78 & 3.923032 & 3.918216 & 4.194412 & 4.028379 & 4.023533\\\\\n",
       "\tCTAGE15 & 4.268796 & 4.570817 & 4.292928 & 4.827885 & 4.984516\\\\\n",
       "\\end{tabular}\n"
      ],
      "text/plain": [
       "          101_41   102_59   103_42   104_48   106_50  \n",
       "HIST1H3G  4.161239 3.760154 4.413014 4.461558 4.109672\n",
       "TNFAIP8L1 4.036723 4.062408 3.963214 4.181952 4.226437\n",
       "OTOP2     4.150746 3.876433 3.959996 4.268308 4.005087\n",
       "C17orf78  3.923032 3.918216 4.194412 4.028379 4.023533\n",
       "CTAGE15   4.268796 4.570817 4.292928 4.827885 4.984516"
      ]
     },
     "execution_count": 67,
     "metadata": {},
     "output_type": "execute_result"
    }
   ],
   "source": [
    "data_rma_f = data_rma[row.names(data_rma) %in% probe_entrez_f$probe_set_id,]\n",
    "probe_entrez_f = data_frame(probe_set_id = row.names(data_rma_f)) %>% left_join(probe_entrez_f)\n",
    "\n",
    "sum(row.names(data_rma_f) == probe_entrez_f$probe_set_id)\n",
    "sum(!row.names(data_rma_f) == probe_entrez_f$probe_set_id)\n",
    "row.names(data_rma_f) = probe_entrez_f$gene_symbol\n",
    "data_rma_f[1:5,1:5]"
   ]
  },
  {
   "cell_type": "markdown",
   "metadata": {},
   "source": [
    "### filter patients to match miRNA data"
   ]
  },
  {
   "cell_type": "code",
   "execution_count": null,
   "metadata": {
    "collapsed": true
   },
   "outputs": [],
   "source": []
  }
 ],
 "metadata": {
  "hide_input": false,
  "kernelspec": {
   "display_name": "R",
   "language": "R",
   "name": "ir"
  },
  "language_info": {
   "codemirror_mode": "r",
   "file_extension": ".r",
   "mimetype": "text/x-r-source",
   "name": "R",
   "pygments_lexer": "r",
   "version": "3.2.3"
  },
  "toc": {
   "toc_cell": false,
   "toc_number_sections": true,
   "toc_threshold": 6,
   "toc_window_display": false
  }
 },
 "nbformat": 4,
 "nbformat_minor": 0
}
